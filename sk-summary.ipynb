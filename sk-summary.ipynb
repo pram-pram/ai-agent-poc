{
 "cells": [
  {
   "cell_type": "code",
   "execution_count": 71,
   "metadata": {},
   "outputs": [
    {
     "name": "stdout",
     "output_type": "stream",
     "text": [
      "Requirement already satisfied: semantic-kernel in c:\\users\\administrator\\appdata\\local\\programs\\python\\python313\\lib\\site-packages (1.18.0)\n",
      "Requirement already satisfied: aiohttp~=3.8 in c:\\users\\administrator\\appdata\\local\\programs\\python\\python313\\lib\\site-packages (from semantic-kernel) (3.11.11)\n",
      "Requirement already satisfied: cloudevents~=1.0 in c:\\users\\administrator\\appdata\\local\\programs\\python\\python313\\lib\\site-packages (from semantic-kernel) (1.11.0)\n",
      "Requirement already satisfied: pydantic!=2.10.0,!=2.10.1,!=2.10.2,!=2.10.3,<2.11,>=2.0 in c:\\users\\administrator\\appdata\\local\\programs\\python\\python313\\lib\\site-packages (from semantic-kernel) (2.10.4)\n",
      "Requirement already satisfied: pydantic-settings~=2.0 in c:\\users\\administrator\\appdata\\local\\programs\\python\\python313\\lib\\site-packages (from semantic-kernel) (2.7.1)\n",
      "Requirement already satisfied: defusedxml~=0.7 in c:\\users\\administrator\\appdata\\local\\programs\\python\\python313\\lib\\site-packages (from semantic-kernel) (0.7.1)\n",
      "Requirement already satisfied: azure-identity~=1.13 in c:\\users\\administrator\\appdata\\local\\programs\\python\\python313\\lib\\site-packages (from semantic-kernel) (1.19.0)\n",
      "Requirement already satisfied: numpy>=1.26.0 in c:\\users\\administrator\\appdata\\local\\programs\\python\\python313\\lib\\site-packages (from semantic-kernel) (2.2.1)\n",
      "Requirement already satisfied: openai~=1.0 in c:\\users\\administrator\\appdata\\local\\programs\\python\\python313\\lib\\site-packages (from semantic-kernel) (1.59.4)\n",
      "Requirement already satisfied: openapi_core<0.20,>=0.18 in c:\\users\\administrator\\appdata\\local\\programs\\python\\python313\\lib\\site-packages (from semantic-kernel) (0.19.4)\n",
      "Requirement already satisfied: opentelemetry-api~=1.24 in c:\\users\\administrator\\appdata\\local\\programs\\python\\python313\\lib\\site-packages (from semantic-kernel) (1.29.0)\n",
      "Requirement already satisfied: opentelemetry-sdk~=1.24 in c:\\users\\administrator\\appdata\\local\\programs\\python\\python313\\lib\\site-packages (from semantic-kernel) (1.29.0)\n",
      "Requirement already satisfied: prance~=23.6.21.0 in c:\\users\\administrator\\appdata\\local\\programs\\python\\python313\\lib\\site-packages (from semantic-kernel) (23.6.21.0)\n",
      "Requirement already satisfied: pybars4~=0.9 in c:\\users\\administrator\\appdata\\local\\programs\\python\\python313\\lib\\site-packages (from semantic-kernel) (0.9.13)\n",
      "Requirement already satisfied: jinja2~=3.1 in c:\\users\\administrator\\appdata\\local\\programs\\python\\python313\\lib\\site-packages (from semantic-kernel) (3.1.5)\n",
      "Requirement already satisfied: nest-asyncio~=1.6 in c:\\users\\administrator\\appdata\\roaming\\python\\python313\\site-packages (from semantic-kernel) (1.6.0)\n",
      "Requirement already satisfied: aiohappyeyeballs>=2.3.0 in c:\\users\\administrator\\appdata\\local\\programs\\python\\python313\\lib\\site-packages (from aiohttp~=3.8->semantic-kernel) (2.4.4)\n",
      "Requirement already satisfied: aiosignal>=1.1.2 in c:\\users\\administrator\\appdata\\local\\programs\\python\\python313\\lib\\site-packages (from aiohttp~=3.8->semantic-kernel) (1.3.2)\n",
      "Requirement already satisfied: attrs>=17.3.0 in c:\\users\\administrator\\appdata\\local\\programs\\python\\python313\\lib\\site-packages (from aiohttp~=3.8->semantic-kernel) (24.3.0)\n",
      "Requirement already satisfied: frozenlist>=1.1.1 in c:\\users\\administrator\\appdata\\local\\programs\\python\\python313\\lib\\site-packages (from aiohttp~=3.8->semantic-kernel) (1.5.0)\n",
      "Requirement already satisfied: multidict<7.0,>=4.5 in c:\\users\\administrator\\appdata\\local\\programs\\python\\python313\\lib\\site-packages (from aiohttp~=3.8->semantic-kernel) (6.1.0)\n",
      "Requirement already satisfied: propcache>=0.2.0 in c:\\users\\administrator\\appdata\\local\\programs\\python\\python313\\lib\\site-packages (from aiohttp~=3.8->semantic-kernel) (0.2.1)\n",
      "Requirement already satisfied: yarl<2.0,>=1.17.0 in c:\\users\\administrator\\appdata\\local\\programs\\python\\python313\\lib\\site-packages (from aiohttp~=3.8->semantic-kernel) (1.18.3)\n",
      "Requirement already satisfied: azure-core>=1.31.0 in c:\\users\\administrator\\appdata\\local\\programs\\python\\python313\\lib\\site-packages (from azure-identity~=1.13->semantic-kernel) (1.32.0)\n",
      "Requirement already satisfied: cryptography>=2.5 in c:\\users\\administrator\\appdata\\local\\programs\\python\\python313\\lib\\site-packages (from azure-identity~=1.13->semantic-kernel) (44.0.0)\n",
      "Requirement already satisfied: msal>=1.30.0 in c:\\users\\administrator\\appdata\\local\\programs\\python\\python313\\lib\\site-packages (from azure-identity~=1.13->semantic-kernel) (1.31.1)\n",
      "Requirement already satisfied: msal-extensions>=1.2.0 in c:\\users\\administrator\\appdata\\local\\programs\\python\\python313\\lib\\site-packages (from azure-identity~=1.13->semantic-kernel) (1.2.0)\n",
      "Requirement already satisfied: typing-extensions>=4.0.0 in c:\\users\\administrator\\appdata\\local\\programs\\python\\python313\\lib\\site-packages (from azure-identity~=1.13->semantic-kernel) (4.12.2)\n",
      "Requirement already satisfied: deprecation<3.0,>=2.0 in c:\\users\\administrator\\appdata\\local\\programs\\python\\python313\\lib\\site-packages (from cloudevents~=1.0->semantic-kernel) (2.1.0)\n",
      "Requirement already satisfied: MarkupSafe>=2.0 in c:\\users\\administrator\\appdata\\local\\programs\\python\\python313\\lib\\site-packages (from jinja2~=3.1->semantic-kernel) (3.0.2)\n",
      "Requirement already satisfied: anyio<5,>=3.5.0 in c:\\users\\administrator\\appdata\\local\\programs\\python\\python313\\lib\\site-packages (from openai~=1.0->semantic-kernel) (4.8.0)\n",
      "Requirement already satisfied: distro<2,>=1.7.0 in c:\\users\\administrator\\appdata\\local\\programs\\python\\python313\\lib\\site-packages (from openai~=1.0->semantic-kernel) (1.9.0)\n",
      "Requirement already satisfied: httpx<1,>=0.23.0 in c:\\users\\administrator\\appdata\\local\\programs\\python\\python313\\lib\\site-packages (from openai~=1.0->semantic-kernel) (0.28.1)\n",
      "Requirement already satisfied: jiter<1,>=0.4.0 in c:\\users\\administrator\\appdata\\local\\programs\\python\\python313\\lib\\site-packages (from openai~=1.0->semantic-kernel) (0.8.2)\n",
      "Requirement already satisfied: sniffio in c:\\users\\administrator\\appdata\\local\\programs\\python\\python313\\lib\\site-packages (from openai~=1.0->semantic-kernel) (1.3.1)\n",
      "Requirement already satisfied: tqdm>4 in c:\\users\\administrator\\appdata\\local\\programs\\python\\python313\\lib\\site-packages (from openai~=1.0->semantic-kernel) (4.67.1)\n",
      "Requirement already satisfied: isodate in c:\\users\\administrator\\appdata\\local\\programs\\python\\python313\\lib\\site-packages (from openapi_core<0.20,>=0.18->semantic-kernel) (0.7.2)\n",
      "Requirement already satisfied: jsonschema<5.0.0,>=4.18.0 in c:\\users\\administrator\\appdata\\local\\programs\\python\\python313\\lib\\site-packages (from openapi_core<0.20,>=0.18->semantic-kernel) (4.23.0)\n",
      "Requirement already satisfied: jsonschema-path<0.4.0,>=0.3.1 in c:\\users\\administrator\\appdata\\local\\programs\\python\\python313\\lib\\site-packages (from openapi_core<0.20,>=0.18->semantic-kernel) (0.3.3)\n",
      "Requirement already satisfied: more-itertools in c:\\users\\administrator\\appdata\\local\\programs\\python\\python313\\lib\\site-packages (from openapi_core<0.20,>=0.18->semantic-kernel) (10.5.0)\n",
      "Requirement already satisfied: openapi-schema-validator<0.7.0,>=0.6.0 in c:\\users\\administrator\\appdata\\local\\programs\\python\\python313\\lib\\site-packages (from openapi_core<0.20,>=0.18->semantic-kernel) (0.6.2)\n",
      "Requirement already satisfied: openapi-spec-validator<0.8.0,>=0.7.1 in c:\\users\\administrator\\appdata\\local\\programs\\python\\python313\\lib\\site-packages (from openapi_core<0.20,>=0.18->semantic-kernel) (0.7.1)\n",
      "Requirement already satisfied: parse in c:\\users\\administrator\\appdata\\local\\programs\\python\\python313\\lib\\site-packages (from openapi_core<0.20,>=0.18->semantic-kernel) (1.20.2)\n",
      "Requirement already satisfied: werkzeug in c:\\users\\administrator\\appdata\\local\\programs\\python\\python313\\lib\\site-packages (from openapi_core<0.20,>=0.18->semantic-kernel) (3.1.3)\n",
      "Requirement already satisfied: deprecated>=1.2.6 in c:\\users\\administrator\\appdata\\local\\programs\\python\\python313\\lib\\site-packages (from opentelemetry-api~=1.24->semantic-kernel) (1.2.15)\n",
      "Requirement already satisfied: importlib-metadata<=8.5.0,>=6.0 in c:\\users\\administrator\\appdata\\local\\programs\\python\\python313\\lib\\site-packages (from opentelemetry-api~=1.24->semantic-kernel) (8.5.0)\n",
      "Requirement already satisfied: opentelemetry-semantic-conventions==0.50b0 in c:\\users\\administrator\\appdata\\local\\programs\\python\\python313\\lib\\site-packages (from opentelemetry-sdk~=1.24->semantic-kernel) (0.50b0)\n",
      "Requirement already satisfied: chardet>=3.0 in c:\\users\\administrator\\appdata\\local\\programs\\python\\python313\\lib\\site-packages (from prance~=23.6.21.0->semantic-kernel) (5.2.0)\n",
      "Requirement already satisfied: ruamel.yaml>=0.17.10 in c:\\users\\administrator\\appdata\\local\\programs\\python\\python313\\lib\\site-packages (from prance~=23.6.21.0->semantic-kernel) (0.18.10)\n",
      "Requirement already satisfied: requests>=2.25 in c:\\users\\administrator\\appdata\\local\\programs\\python\\python313\\lib\\site-packages (from prance~=23.6.21.0->semantic-kernel) (2.32.3)\n",
      "Requirement already satisfied: six~=1.15 in c:\\users\\administrator\\appdata\\roaming\\python\\python313\\site-packages (from prance~=23.6.21.0->semantic-kernel) (1.17.0)\n",
      "Requirement already satisfied: packaging>=21.3 in c:\\users\\administrator\\appdata\\roaming\\python\\python313\\site-packages (from prance~=23.6.21.0->semantic-kernel) (24.2)\n",
      "Requirement already satisfied: PyMeta3>=0.5.1 in c:\\users\\administrator\\appdata\\local\\programs\\python\\python313\\lib\\site-packages (from pybars4~=0.9->semantic-kernel) (0.5.1)\n",
      "Requirement already satisfied: annotated-types>=0.6.0 in c:\\users\\administrator\\appdata\\local\\programs\\python\\python313\\lib\\site-packages (from pydantic!=2.10.0,!=2.10.1,!=2.10.2,!=2.10.3,<2.11,>=2.0->semantic-kernel) (0.7.0)\n",
      "Requirement already satisfied: pydantic-core==2.27.2 in c:\\users\\administrator\\appdata\\local\\programs\\python\\python313\\lib\\site-packages (from pydantic!=2.10.0,!=2.10.1,!=2.10.2,!=2.10.3,<2.11,>=2.0->semantic-kernel) (2.27.2)\n",
      "Requirement already satisfied: python-dotenv>=0.21.0 in c:\\users\\administrator\\appdata\\local\\programs\\python\\python313\\lib\\site-packages (from pydantic-settings~=2.0->semantic-kernel) (1.0.1)\n",
      "Requirement already satisfied: idna>=2.8 in c:\\users\\administrator\\appdata\\local\\programs\\python\\python313\\lib\\site-packages (from anyio<5,>=3.5.0->openai~=1.0->semantic-kernel) (3.10)\n",
      "Requirement already satisfied: cffi>=1.12 in c:\\users\\administrator\\appdata\\local\\programs\\python\\python313\\lib\\site-packages (from cryptography>=2.5->azure-identity~=1.13->semantic-kernel) (1.17.1)\n",
      "Requirement already satisfied: wrapt<2,>=1.10 in c:\\users\\administrator\\appdata\\local\\programs\\python\\python313\\lib\\site-packages (from deprecated>=1.2.6->opentelemetry-api~=1.24->semantic-kernel) (1.17.0)\n",
      "Requirement already satisfied: certifi in c:\\users\\administrator\\appdata\\local\\programs\\python\\python313\\lib\\site-packages (from httpx<1,>=0.23.0->openai~=1.0->semantic-kernel) (2024.12.14)\n",
      "Requirement already satisfied: httpcore==1.* in c:\\users\\administrator\\appdata\\local\\programs\\python\\python313\\lib\\site-packages (from httpx<1,>=0.23.0->openai~=1.0->semantic-kernel) (1.0.7)\n",
      "Requirement already satisfied: h11<0.15,>=0.13 in c:\\users\\administrator\\appdata\\local\\programs\\python\\python313\\lib\\site-packages (from httpcore==1.*->httpx<1,>=0.23.0->openai~=1.0->semantic-kernel) (0.14.0)\n",
      "Requirement already satisfied: zipp>=3.20 in c:\\users\\administrator\\appdata\\local\\programs\\python\\python313\\lib\\site-packages (from importlib-metadata<=8.5.0,>=6.0->opentelemetry-api~=1.24->semantic-kernel) (3.21.0)\n",
      "Requirement already satisfied: jsonschema-specifications>=2023.03.6 in c:\\users\\administrator\\appdata\\local\\programs\\python\\python313\\lib\\site-packages (from jsonschema<5.0.0,>=4.18.0->openapi_core<0.20,>=0.18->semantic-kernel) (2023.12.1)\n",
      "Requirement already satisfied: referencing>=0.28.4 in c:\\users\\administrator\\appdata\\local\\programs\\python\\python313\\lib\\site-packages (from jsonschema<5.0.0,>=4.18.0->openapi_core<0.20,>=0.18->semantic-kernel) (0.35.1)\n",
      "Requirement already satisfied: rpds-py>=0.7.1 in c:\\users\\administrator\\appdata\\local\\programs\\python\\python313\\lib\\site-packages (from jsonschema<5.0.0,>=4.18.0->openapi_core<0.20,>=0.18->semantic-kernel) (0.22.3)\n",
      "Requirement already satisfied: PyYAML>=5.1 in c:\\users\\administrator\\appdata\\local\\programs\\python\\python313\\lib\\site-packages (from jsonschema-path<0.4.0,>=0.3.1->openapi_core<0.20,>=0.18->semantic-kernel) (6.0.2)\n",
      "Requirement already satisfied: pathable<0.5.0,>=0.4.1 in c:\\users\\administrator\\appdata\\local\\programs\\python\\python313\\lib\\site-packages (from jsonschema-path<0.4.0,>=0.3.1->openapi_core<0.20,>=0.18->semantic-kernel) (0.4.3)\n",
      "Requirement already satisfied: PyJWT<3,>=1.0.0 in c:\\users\\administrator\\appdata\\local\\programs\\python\\python313\\lib\\site-packages (from PyJWT[crypto]<3,>=1.0.0->msal>=1.30.0->azure-identity~=1.13->semantic-kernel) (2.10.1)\n",
      "Requirement already satisfied: portalocker<3,>=1.4 in c:\\users\\administrator\\appdata\\local\\programs\\python\\python313\\lib\\site-packages (from msal-extensions>=1.2.0->azure-identity~=1.13->semantic-kernel) (2.10.1)\n",
      "Requirement already satisfied: rfc3339-validator in c:\\users\\administrator\\appdata\\local\\programs\\python\\python313\\lib\\site-packages (from openapi-schema-validator<0.7.0,>=0.6.0->openapi_core<0.20,>=0.18->semantic-kernel) (0.1.4)\n",
      "Requirement already satisfied: lazy-object-proxy<2.0.0,>=1.7.1 in c:\\users\\administrator\\appdata\\local\\programs\\python\\python313\\lib\\site-packages (from openapi-spec-validator<0.8.0,>=0.7.1->openapi_core<0.20,>=0.18->semantic-kernel) (1.10.0)\n",
      "Requirement already satisfied: charset-normalizer<4,>=2 in c:\\users\\administrator\\appdata\\local\\programs\\python\\python313\\lib\\site-packages (from requests>=2.25->prance~=23.6.21.0->semantic-kernel) (3.4.1)\n",
      "Requirement already satisfied: urllib3<3,>=1.21.1 in c:\\users\\administrator\\appdata\\local\\programs\\python\\python313\\lib\\site-packages (from requests>=2.25->prance~=23.6.21.0->semantic-kernel) (2.3.0)\n",
      "Requirement already satisfied: colorama in c:\\users\\administrator\\appdata\\roaming\\python\\python313\\site-packages (from tqdm>4->openai~=1.0->semantic-kernel) (0.4.6)\n",
      "Requirement already satisfied: pycparser in c:\\users\\administrator\\appdata\\local\\programs\\python\\python313\\lib\\site-packages (from cffi>=1.12->cryptography>=2.5->azure-identity~=1.13->semantic-kernel) (2.22)\n",
      "Requirement already satisfied: pywin32>=226 in c:\\users\\administrator\\appdata\\roaming\\python\\python313\\site-packages (from portalocker<3,>=1.4->msal-extensions>=1.2.0->azure-identity~=1.13->semantic-kernel) (308)\n",
      "Note: you may need to restart the kernel to use updated packages.\n"
     ]
    }
   ],
   "source": [
    "pip install semantic-kernel"
   ]
  },
  {
   "cell_type": "code",
   "execution_count": 72,
   "metadata": {},
   "outputs": [],
   "source": [
    "from semantic_kernel import Kernel\n",
    "\n",
    "kernel = Kernel()"
   ]
  },
  {
   "cell_type": "code",
   "execution_count": 73,
   "metadata": {},
   "outputs": [],
   "source": [
    "from semantic_kernel.connectors.ai.open_ai import AzureChatCompletion\n",
    "chat_completion = AzureChatCompletion(\n",
    "        deployment_name=\"\",\n",
    "        api_key=\"\",\n",
    "        endpoint=\"\",\n",
    "    )\n",
    "kernel.add_service(chat_completion)"
   ]
  },
  {
   "cell_type": "code",
   "execution_count": 74,
   "metadata": {},
   "outputs": [],
   "source": [
    "summarize_plugin = kernel.add_plugin(parent_directory=\"prompt_template_samples/\", plugin_name=\"SummarizePlugin\")"
   ]
  },
  {
   "cell_type": "code",
   "execution_count": 75,
   "metadata": {},
   "outputs": [
    {
     "name": "stdout",
     "output_type": "stream",
     "text": [
      "name='SummarizePlugin' description=None functions={'Email': KernelFunctionFromPrompt(metadata=KernelFunctionMetadata(name='Email', plugin_name='SummarizePlugin', description='Turn summary into an email to someone, using a polite tone', parameters=[KernelParameterMetadata(name='to', description='Recipient of the email', default_value='', type_='', is_required=True, type_object=None, schema_data={'type': 'object', 'description': 'Recipient of the email'}, include_in_function_choices=True), KernelParameterMetadata(name='sender', description='Persons who sends the email', default_value='', type_='', is_required=True, type_object=None, schema_data={'type': 'object', 'description': 'Persons who sends the email'}, include_in_function_choices=True), KernelParameterMetadata(name='article_summary', description='Summary of the article', default_value='', type_='', is_required=True, type_object=None, schema_data={'type': 'object', 'description': 'Summary of the article'}, include_in_function_choices=True), KernelParameterMetadata(name='language', description='', default_value='', type_='', is_required=True, type_object=None, schema_data={'type': 'object'}, include_in_function_choices=True)], is_prompt=True, is_asynchronous=True, return_parameter=KernelParameterMetadata(name='return', description='The completion result', default_value=None, type_='FunctionResult', is_required=True, type_object=None, schema_data=None, include_in_function_choices=True), additional_properties=None), invocation_duration_histogram=<opentelemetry.metrics._internal.instrument._ProxyHistogram object at 0x00000200F8730AD0>, streaming_duration_histogram=<opentelemetry.metrics._internal.instrument._ProxyHistogram object at 0x00000200F8731A20>, prompt_template=KernelPromptTemplate(prompt_template_config=PromptTemplateConfig(name='Email', description='Turn summary into an email to someone, using a polite tone', template='[Email rules]\\nUse complete sentences.\\nUse a professional and inclusive tone.\\nEnsure the starting line is relevant to the article summary.\\nEnsure the language of the email is the same as the given summary.\\nAppend the summary as it is without any modifications.\\nDo not change the language of the summary.\\nThe whole email should be in the {{$language}}\\n\\n[Input]\\n{{$to}},\\n{{$article_summary}},\\n\\nBest regards,\\n{{$sender}}\\n\\n+++++\\nHi {{$to}},\\n\\nI hope this message finds you well. I wanted to share a summary of an article that provides valuable insights. Here are the key points:\\n\\n{{$article_summary}}\\n\\nBest regards,\\n{{$sender}}\\n+++++', template_format='semantic-kernel', input_variables=[InputVariable(name='to', description='Recipient of the email', default='', is_required=True, json_schema='', allow_dangerously_set_content=False), InputVariable(name='sender', description='Persons who sends the email', default='', is_required=True, json_schema='', allow_dangerously_set_content=False), InputVariable(name='article_summary', description='Summary of the article', default='', is_required=True, json_schema='', allow_dangerously_set_content=False), InputVariable(name='language', description='', default='', is_required=True, json_schema='', allow_dangerously_set_content=False)], allow_dangerously_set_content=False, execution_settings={'default': PromptExecutionSettings(service_id=None, extension_data={'max_tokens': 256, 'temperature': 0.0, 'top_p': 0.0, 'presence_penalty': 0.0, 'frequency_penalty': 0.0}, function_choice_behavior=None)}), allow_dangerously_set_content=False), prompt_execution_settings={'default': PromptExecutionSettings(service_id=None, extension_data={'max_tokens': 256, 'temperature': 0.0, 'top_p': 0.0, 'presence_penalty': 0.0, 'frequency_penalty': 0.0}, function_choice_behavior=None)}), 'Keytakeaways': KernelFunctionFromPrompt(metadata=KernelFunctionMetadata(name='Keytakeaways', plugin_name='SummarizePlugin', description='Automatically generate compact notes for any text or text document.', parameters=[KernelParameterMetadata(name='input', description='', default_value='', type_='', is_required=True, type_object=None, schema_data={'type': 'object'}, include_in_function_choices=True)], is_prompt=True, is_asynchronous=True, return_parameter=KernelParameterMetadata(name='return', description='The completion result', default_value=None, type_='FunctionResult', is_required=True, type_object=None, schema_data=None, include_in_function_choices=True), additional_properties=None), invocation_duration_histogram=<opentelemetry.metrics._internal.instrument._ProxyHistogram object at 0x00000200F6E60B40>, streaming_duration_histogram=<opentelemetry.metrics._internal.instrument._ProxyHistogram object at 0x00000200F6E601A0>, prompt_template=KernelPromptTemplate(prompt_template_config=PromptTemplateConfig(name='Keytakeaways', description='Automatically generate compact notes for any text or text document.', template=\"Analyze the following extract taken from a document. \\n- Produce key points for memory. \\n- Give memory a name. \\n- Extract only points worth remembering. \\n- Be brief. Conciseness is very important.  \\n- Use broken English. \\nYou will use this memory to analyze the rest of this document, and for other relevant tasks. \\n\\n[Input]\\nMy name is Macbeth. I used to be King of Scotland, but I died. My wife's name is Lady Macbeth and we were married for 15 years. We had no children. Our beloved dog Toby McDuff was a famous hunter of rats in the forest.\\nMy story was immortalized by Shakespeare in a play.\\n+++++\\nFamily History\\n- Macbeth, King Scotland\\n- Wife Lady Macbeth, No Kids\\n- Dog Toby McDuff. Hunter, dead. \\n- Shakespeare play\\n\\n[Input]\\n[[{{$input}}]]\\n+++++\\n\", template_format='semantic-kernel', input_variables=[InputVariable(name='input', description='', default='', is_required=True, json_schema='', allow_dangerously_set_content=False)], allow_dangerously_set_content=False, execution_settings={'default': PromptExecutionSettings(service_id=None, extension_data={'max_tokens': 256, 'temperature': 0.0, 'top_p': 0.0, 'presence_penalty': 0.0, 'frequency_penalty': 0.0}, function_choice_behavior=None)}), allow_dangerously_set_content=False), prompt_execution_settings={'default': PromptExecutionSettings(service_id=None, extension_data={'max_tokens': 256, 'temperature': 0.0, 'top_p': 0.0, 'presence_penalty': 0.0, 'frequency_penalty': 0.0}, function_choice_behavior=None)}), 'Summarize': KernelFunctionFromPrompt(metadata=KernelFunctionMetadata(name='Summarize', plugin_name='SummarizePlugin', description='Summarize given text or any text document', parameters=[KernelParameterMetadata(name='input', description='Text to summarize', default_value='', type_='', is_required=True, type_object=None, schema_data={'type': 'object', 'description': 'Text to summarize'}, include_in_function_choices=True)], is_prompt=True, is_asynchronous=True, return_parameter=KernelParameterMetadata(name='return', description='The completion result', default_value=None, type_='FunctionResult', is_required=True, type_object=None, schema_data=None, include_in_function_choices=True), additional_properties=None), invocation_duration_histogram=<opentelemetry.metrics._internal.instrument._ProxyHistogram object at 0x00000200F6E603D0>, streaming_duration_histogram=<opentelemetry.metrics._internal.instrument._ProxyHistogram object at 0x00000200F6E61710>, prompt_template=KernelPromptTemplate(prompt_template_config=PromptTemplateConfig(name='Summarize', description='Summarize given text or any text document', template='[SUMMARIZATION RULES]\\nDONT WASTE WORDS\\nUSE SHORT, CLEAR, COMPLETE SENTENCES.\\nDo not USE BULLET POINTS OR DASHES.\\nUSE ACTIVE VOICE.\\nMAXIMIZE DETAIL, MEANING\\nFOCUS ON THE CONTENT\\n\\n\\n\\n[BANNED PHRASES]\\nThis article\\nThis document\\nThis page\\nThis material\\n[END LIST]\\n\\nSummarize:\\nHello how are you?\\n+++++\\nHello\\n\\nSummarize this\\n{{$input}}\\n+++++', template_format='semantic-kernel', input_variables=[InputVariable(name='input', description='Text to summarize', default='', is_required=True, json_schema='', allow_dangerously_set_content=False)], allow_dangerously_set_content=False, execution_settings={'default': PromptExecutionSettings(service_id=None, extension_data={'max_tokens': 512, 'temperature': 0.0, 'top_p': 0.0, 'presence_penalty': 0.0, 'frequency_penalty': 0.0}, function_choice_behavior=None)}), allow_dangerously_set_content=False), prompt_execution_settings={'default': PromptExecutionSettings(service_id=None, extension_data={'max_tokens': 512, 'temperature': 0.0, 'top_p': 0.0, 'presence_penalty': 0.0, 'frequency_penalty': 0.0}, function_choice_behavior=None)}), 'Translate': KernelFunctionFromPrompt(metadata=KernelFunctionMetadata(name='Translate', plugin_name='SummarizePlugin', description='Translate the input into a language of your choice', parameters=[KernelParameterMetadata(name='input', description='Text to translate', default_value='', type_='', is_required=True, type_object=None, schema_data={'type': 'object', 'description': 'Text to translate'}, include_in_function_choices=True), KernelParameterMetadata(name='language', description='Language to translate to', default_value='', type_='', is_required=True, type_object=None, schema_data={'type': 'object', 'description': 'Language to translate to'}, include_in_function_choices=True)], is_prompt=True, is_asynchronous=True, return_parameter=KernelParameterMetadata(name='return', description='The completion result', default_value=None, type_='FunctionResult', is_required=True, type_object=None, schema_data=None, include_in_function_choices=True), additional_properties=None), invocation_duration_histogram=<opentelemetry.metrics._internal.instrument._ProxyHistogram object at 0x00000200F6E606E0>, streaming_duration_histogram=<opentelemetry.metrics._internal.instrument._ProxyHistogram object at 0x00000200F6E614E0>, prompt_template=KernelPromptTemplate(prompt_template_config=PromptTemplateConfig(name='Translate', description='Translate the input into a language of your choice', template='Translate the input below into {{$language}}\\n\\nMAKE SURE YOU ONLY USE {{$language}}.\\n\\n{{$input}}\\n\\nTranslation:\\n', template_format='semantic-kernel', input_variables=[InputVariable(name='input', description='Text to translate', default='', is_required=True, json_schema='', allow_dangerously_set_content=False), InputVariable(name='language', description='Language to translate to', default='', is_required=True, json_schema='', allow_dangerously_set_content=False)], allow_dangerously_set_content=False, execution_settings={'default': PromptExecutionSettings(service_id=None, extension_data={'max_tokens': 2000, 'temperature': 0.7, 'top_p': 0.0, 'presence_penalty': 0.0, 'frequency_penalty': 0.0, 'stop_sequences': ['[done]']}, function_choice_behavior=None)}), allow_dangerously_set_content=False), prompt_execution_settings={'default': PromptExecutionSettings(service_id=None, extension_data={'max_tokens': 2000, 'temperature': 0.7, 'top_p': 0.0, 'presence_penalty': 0.0, 'frequency_penalty': 0.0, 'stop_sequences': ['[done]']}, function_choice_behavior=None)})}\n"
     ]
    }
   ],
   "source": [
    "print(summarize_plugin)"
   ]
  },
  {
   "cell_type": "code",
   "execution_count": 76,
   "metadata": {},
   "outputs": [],
   "source": [
    "text = \"“As the number of aging adults increases, it will be important to encourage an overall shift from 'sickcare,' in which people seek medical attention only after they fall ill, to healthcare based on prevention as a way to lower medical costs,” says Robert Feldman, Senior Advisor at Morgan Stanley MUFG Securities. “Focusing on nutrition to help contain costs for older adults—the demographic that accounts for the most spending on healthcare—could have significant economic benefits over the long term.”\""
   ]
  },
  {
   "cell_type": "code",
   "execution_count": 77,
   "metadata": {},
   "outputs": [
    {
     "name": "stdout",
     "output_type": "stream",
     "text": [
      "Summary : Robert Feldman from Morgan Stanley MUFG Securities emphasizes the need to transition from a reactive 'sickcare' approach to a preventive healthcare model, particularly focusing on nutrition for aging adults to reduce long-term healthcare costs and achieve economic benefits.\n"
     ]
    }
   ],
   "source": [
    "from semantic_kernel.functions.kernel_arguments import KernelArguments\n",
    "summarize_function = summarize_plugin[\"Summarize\"]\n",
    "\n",
    "summary = await kernel.invoke( \n",
    "    summarize_function,\n",
    "    KernelArguments(input=text),\n",
    ")\n",
    "\n",
    "print(f\"Summary : {summary}\")"
   ]
  },
  {
   "cell_type": "code",
   "execution_count": 78,
   "metadata": {},
   "outputs": [
    {
     "name": "stdout",
     "output_type": "stream",
     "text": [
      "Keytakeaways : Memory Name: Healthcare Shift Strategy\n",
      "\n",
      "Key Points:\n",
      "- Increase in aging adults.\n",
      "- Shift from sickcare to preventive healthcare.\n",
      "- Focus on nutrition for older adults.\n",
      "- Potential long-term economic benefits.\n"
     ]
    }
   ],
   "source": [
    "keytakeaways_function = summarize_plugin[\"Keytakeaways\"]\n",
    "\n",
    "keytakeaways = await kernel.invoke( \n",
    "    keytakeaways_function,\n",
    "    KernelArguments(input=text),\n",
    ")\n",
    "\n",
    "print(f\"Keytakeaways : {keytakeaways}\")"
   ]
  },
  {
   "cell_type": "code",
   "execution_count": 83,
   "metadata": {},
   "outputs": [
    {
     "name": "stdout",
     "output_type": "stream",
     "text": [
      "Summary : Robert Feldman from Morgan Stanley MUFG Securities emphasizes the need to transition from a reactive 'sickcare' approach to a preventive healthcare model, particularly focusing on nutrition for aging adults to reduce long-term healthcare costs and achieve economic benefits.\n"
     ]
    }
   ],
   "source": [
    "translate_function = summarize_plugin[\"Translate\"]\n",
    "\n",
    "language = \"english\"\n",
    "\n",
    "translated_summary = await kernel.invoke( \n",
    "    translate_function,\n",
    "    KernelArguments(input=summary,language=language),\n",
    ")\n",
    "\n",
    "print(f\"Summary : {translated_summary}\")"
   ]
  },
  {
   "cell_type": "code",
   "execution_count": 84,
   "metadata": {},
   "outputs": [
    {
     "name": "stdout",
     "output_type": "stream",
     "text": [
      "Hi Alex Poon,\n",
      "\n",
      "I hope this message finds you well. I wanted to share a summary of an article that provides valuable insights. Here are the key points:\n",
      "\n",
      "Robert Feldman from Morgan Stanley MUFG Securities emphasizes the need to transition from a reactive 'sickcare' approach to a preventive healthcare model, particularly focusing on nutrition for aging adults to reduce long-term healthcare costs and achieve economic benefits.\n",
      "\n",
      "Best regards,\n",
      "Pramita\n"
     ]
    }
   ],
   "source": [
    "email_function = summarize_plugin[\"Email\"]\n",
    "\n",
    "email_summary = await kernel.invoke(\n",
    "    email_function,\n",
    "    KernelArguments(article_summary=translated_summary,to=\"Alex Poon\",sender=\"Pramita\",language=language),\n",
    ")\n",
    "\n",
    "print(f\"{email_summary}\")"
   ]
  }
 ],
 "metadata": {
  "kernelspec": {
   "display_name": "Python 3",
   "language": "python",
   "name": "python3"
  },
  "language_info": {
   "codemirror_mode": {
    "name": "ipython",
    "version": 3
   },
   "file_extension": ".py",
   "mimetype": "text/x-python",
   "name": "python",
   "nbconvert_exporter": "python",
   "pygments_lexer": "ipython3",
   "version": "3.13.1"
  }
 },
 "nbformat": 4,
 "nbformat_minor": 2
}
